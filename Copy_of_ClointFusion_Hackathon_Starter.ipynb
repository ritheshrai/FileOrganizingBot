{
  "nbformat": 4,
  "nbformat_minor": 0,
  "metadata": {
    "colab": {
      "name": "Copy of ClointFusion-Hackathon-Starter.ipynb",
      "provenance": [],
      "collapsed_sections": []
    },
    "kernelspec": {
      "name": "python3",
      "display_name": "Python 3"
    }
  },
  "cells": [
    {
      "cell_type": "markdown",
      "metadata": {
        "id": "Ikw6NZbOsKRy"
      },
      "source": [
        "## **Quick Start**\n",
        "\n",
        "**pip install --upgrade jupyter_http_over_ws>=0.0.7 && jupyter serverextension enable --py jupyter_http_over_ws**\n",
        "\n",
        "**jupyter notebook --NotebookApp.allow_origin='https://colab.research.google.com' --port=8888 --NotebookApp.port_retries=0**\n",
        "\n"
      ]
    },
    {
      "cell_type": "markdown",
      "metadata": {
        "id": "1NfiLxWatLpF"
      },
      "source": [
        "# **pip install ClointFusion**"
      ]
    },
    {
      "cell_type": "code",
      "metadata": {
        "id": "FHoqW9hVtHto",
        "outputId": "85677d7b-b86c-47bc-8da5-d56e0f531b85",
        "colab": {
          "base_uri": "https://localhost:8080/"
        }
      },
      "source": [
        "%pip install --upgrade ClointFusion"
      ],
      "execution_count": null,
      "outputs": [
        {
          "output_type": "stream",
          "text": [
            "Note: you may need to restart the kernel to use updated packages.\n"
          ],
          "name": "stdout"
        },
        {
          "output_type": "stream",
          "text": [
            "'c:\\users\\rakshith' is not recognized as an internal or external command,\n",
            "operable program or batch file.\n"
          ],
          "name": "stderr"
        }
      ]
    },
    {
      "cell_type": "markdown",
      "metadata": {
        "id": "Nl__QNaUtWgB"
      },
      "source": [
        "# **import ClointFusion as cf**"
      ]
    },
    {
      "cell_type": "code",
      "metadata": {
        "id": "9ABYS4lBtYwf",
        "outputId": "7b5f0676-c038-4b9f-b8a6-a51b34561c64",
        "colab": {
          "base_uri": "https://localhost:8080/"
        }
      },
      "source": [
        "import ClointFusion as cf"
      ],
      "execution_count": 1,
      "outputs": [
        {
          "output_type": "stream",
          "text": [
            "Welcome to ClointFusion, Made in India with ❤️\n"
          ],
          "name": "stdout"
        }
      ]
    },
    {
      "cell_type": "markdown",
      "metadata": {
        "id": "P62WpxMGtvhH"
      },
      "source": [
        "**Start Building your BOT from Here**"
      ]
    },
    {
      "cell_type": "code",
      "metadata": {
        "id": "Filv9m_Ut0VS"
      },
      "source": [
        "print(cf.show_emoji())"
      ],
      "execution_count": null,
      "outputs": []
    },
    {
      "cell_type": "markdown",
      "metadata": {
        "id": "7Ahy6AJmnB89"
      },
      "source": [
        "# **File Organizing Bot**"
      ]
    },
    {
      "cell_type": "markdown",
      "metadata": {
        "id": "OVcKy4D7pyyu"
      },
      "source": [
        "Importing the Library"
      ]
    },
    {
      "cell_type": "code",
      "metadata": {
        "id": "RErHRCBZnkVi"
      },
      "source": [
        "import ClointFusion as cf\n",
        "import os"
      ],
      "execution_count": 2,
      "outputs": []
    },
    {
      "cell_type": "markdown",
      "metadata": {
        "id": "znqWiaunwn3k"
      },
      "source": [
        "Taking path as a input and **validating**"
      ]
    },
    {
      "cell_type": "code",
      "metadata": {
        "id": "MnWQKxRGqWzd"
      },
      "source": [
        "#plat = platform.system()\n",
        "def path_take():\n",
        "   path = cf.gui_get_any_file_from_user('select an folder with a file')\n",
        "   if os.path.exists(path): \n",
        "     x = path.rsplit(\"/\", 1)\n",
        "     path=x[0]\n",
        "     print(path)\n",
        "     return path\n",
        "   else:\n",
        "     print(\"invalid path\")\n",
        "\n",
        "#https://pypi.org/project/pathvalidate/#:~:text=pathvalidate%20is%20a%20Python%20library%20to,sanitize%2Fvalidate%20a%20string%20such%20as%20filenames%2Ffile-paths%2Fetc.\n",
        "#files_list = cf.folder_get_all_filenames_as_list(\"C:\\Test\")\n"
      ],
      "execution_count": 3,
      "outputs": []
    },
    {
      "cell_type": "markdown",
      "metadata": {
        "id": "ZOZ2NME_rP_C"
      },
      "source": [
        "**3 funtions**  -to move ,to organize,to merge folders"
      ]
    },
    {
      "cell_type": "code",
      "metadata": {
        "id": "RX-Ynr9_Fdk3"
      },
      "source": [
        "#content mover funtion\n",
        "def Folder_content_move(src,dest):\n",
        "  os.rename(src,dest)\n",
        "#file oranizer Bot funtion\n",
        "def files_filter(path,extentions,filetype):\n",
        "  for extention in extentions:\n",
        "    files_list = cf.folder_get_all_filenames_as_list(path,extension=extention)\n",
        "    if not files_list:\n",
        "      pass\n",
        "    else:\n",
        "      cf.folder_create(path+'\\\\'+filetype)\n",
        "      for p in files_list:\n",
        "        if p!=extention:\n",
        "          src=path+'\\\\'+p\n",
        "          dest=path+'\\\\'+filetype+'\\\\'+p\n",
        "          Folder_content_move(src,dest)\n",
        "#folder content merger funtion\n",
        "def folder_merger(src,dest):\n",
        "   files_list = cf.folder_get_all_filenames_as_list(src)\n",
        "   for p in files_list:\n",
        "            src_s=src+'\\\\'+p\n",
        "            dest_s=dest+'\\\\'+p\n",
        "            Folder_content_move(src_s,dest_s)\n"
      ],
      "execution_count": 4,
      "outputs": []
    },
    {
      "cell_type": "code",
      "metadata": {
        "id": "xHBvqcAVqWyZ",
        "outputId": "7f794af0-de94-4550-d7c1-aa4b8b14029a",
        "colab": {
          "base_uri": "https://localhost:8080/"
        }
      },
      "source": [
        "cf.OFF_semi_automatic_mode()\n",
        "path = path_take()\n",
        "#os.path.join(os.path.join(os.environ['USERPROFILE']), 'Downloads')\n",
        "#images filter\n",
        "images=['png','jpg','jpeg','JFIF','Exif','TIFF','TIF','gif','bmp','ico']\n",
        "videos=['mp4','mvk','webm','flv','vob','MTS','M2TS','TS','wmv','yuv','rm','rmvb','m4p','m4v','mpeg','mpg','svi','3gp','3GP']\n",
        "Document=['docx','pdf','doc','odt','ppt','pptx','txt','gdoc','gdocx','rtf']\n",
        "other=['zip','rar']\n",
        "exel=['xls','xlsx','csv']\n",
        "audio=['mp3','aif','cda','mid','midi','mpa','ogg','wav','wma','wpl']\n",
        "options_for_user_lst = ['images','videos','Document','Music','Exel','other']\n",
        "user_choise = cf.gui_get_dropdownlist_values_from_user('list of colors',options_for_user_lst)\n",
        "if 'images' in user_choise:\n",
        "  files_filter(path,images,'images')\n",
        "  print(\" images flittered to images folder \"+cf.show_emoji())\n",
        "if 'videos' in user_choise:\n",
        "  files_filter(path,videos,'Videos')\n",
        "  print(\" video filtterd to video folder  \"+cf.show_emoji())\n",
        "if 'Document' in user_choise:\n",
        "  files_filter(path,Document,'Document')\n",
        "  print(\" documents filtterd to Document folder  \"+cf.show_emoji())\n",
        "if 'Music' in user_choise:\n",
        "  files_filter(path,audio,'Music')\n",
        "  print(\" Audios filtterd to Music folder  \"+cf.show_emoji()) \n",
        "if 'Exel' in user_choise:\n",
        "  files_filter(path,exel,'Exel')\n",
        "  print(\" exel filtterd to Exel folder  \"+cf.show_emoji())   \n",
        "if 'other' in user_choise:\n",
        "  files_filter(path,other,'other')\n",
        "  print(\" compressed filtterd to other folder  \"+cf.show_emoji())    "
      ],
      "execution_count": 7,
      "outputs": [
        {
          "output_type": "stream",
          "text": [
            "Semi Automatic Mode is DISABLED 👍️\n",
            "C:/Users/Rakshith Rai/Downloads/test\n",
            " images flittered to images folder 👍️\n",
            " video filtterd to video folder  👍️\n",
            " documents filtterd to Document folder  👍️\n",
            " Audios filtterd to Music folder  👍️\n",
            " exel filtterd to Exel folder  👍️\n",
            " compressed filtterd to other folder  👍️\n"
          ],
          "name": "stdout"
        }
      ]
    },
    {
      "cell_type": "markdown",
      "metadata": {
        "id": "C0XF9ToCwq9x"
      },
      "source": [
        "To undo the organization of files"
      ]
    },
    {
      "cell_type": "code",
      "metadata": {
        "id": "1uIBXN9QWXZr"
      },
      "source": [
        "#path = os.path.join(os.path.join(os.environ['USERPROFILE']), 'Downloads')\n",
        "undo = ['images','videos','Document','Music','Exel','compessed']\n",
        "choise = cf.gui_get_dropdownlist_values_from_user('choose the file types',options_for_user_lst)\n",
        "for foldername in choise:\n",
        "    src=path+'/'+foldername\n",
        "    dest=path\n",
        "    folder_merger(src,dest)"
      ],
      "execution_count": 6,
      "outputs": []
    }
  ]
}